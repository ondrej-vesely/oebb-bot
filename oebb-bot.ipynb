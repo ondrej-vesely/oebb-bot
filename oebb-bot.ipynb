{
 "cells": [
  {
   "cell_type": "markdown",
   "metadata": {},
   "source": [
    "## Setup Telegram bot to receive notifications\n",
    "\n",
    "*Taken from [How to send notifications to Telegram with Python by Andrei Kushniarou](https://andrewkushnerov.medium.com/how-to-send-notifications-to-telegram-with-python-9ea9b8657bfb)*\n",
    "\n",
    "### Create a bot\n",
    "\n",
    "To create your new bot, you need to find a special bot called BotFather on Telegram. BotFather is the bot is used to manage all your bots. Search for it (type “BotFather” in the search bar), then type `/newbot`.\n",
    "\n",
    "Next you will be asked to provide a user friendly \"name\" and unique \"username\" (A-Z, a-z, 0-9, _ and - are allowed). If the username is available, you'll receive an API key.\n",
    "\n",
    "Using this API key, you can interact with the bot and send messages. \n",
    "\n",
    "<u>Store the API key in the .env file of this repository.</u>\n",
    "\n",
    "### Add bot to group chat\n",
    "\n",
    "Your newly created bot cannot just send messages to anyone or any group. To enable it to send messages, you need to add it to a Telegram group. You can create a new group and add your Telegram bot to it.\n",
    "\n",
    "Click on “Create a New Group”, set group name of your choice and add the bot as a group member by searching for the unique username you've used for it.\n",
    "\n",
    "The next step is to find the group’s Chat ID, which is necessary to know where to send messages. The way to find it is by sending a message to the bot and then using a small Python script to retrieve the latest messages. \n",
    "\n",
    "<u>Send a message in the group chat addressed directly to the bot (in private mode, by default, the bot can only read such messages).</u>\n",
    "\n",
    "```\n",
    "/hello @your_bots_username\n",
    "```\n",
    "\n",
    "### Retrieving Chat ID\n",
    "\n",
    "Make sure you have the Python Telegram bot package installed.\n",
    "\n",
    "1. ```pip install python-telegram-bot```\n",
    "2. ```conda install conda-forge::python-telegram-bot```"
   ]
  },
  {
   "cell_type": "code",
   "execution_count": 12,
   "metadata": {},
   "outputs": [
    {
     "name": "stdout",
     "output_type": "stream",
     "text": [
      "Chat ID: -4545482209  | Chat Title: ÖBB Ticket Updates | Message: /hello @oebb_ticket_update_bot\n"
     ]
    }
   ],
   "source": [
    "import dotenv, os\n",
    "from telegram import Bot \n",
    "\n",
    "#Load the token from .env file\n",
    "dotenv.load_dotenv()\n",
    "TELEGRAM_BOT_TOKEN = os.getenv(\"TELEGRAM_BOT_TOKEN\")\n",
    "\n",
    "#Create bot object\n",
    "bot = Bot(token=TELEGRAM_BOT_TOKEN)\n",
    "\n",
    "#Get updates\n",
    "updates = await bot.get_updates()\n",
    "\n",
    "if not updates:\n",
    "    print(\"No updates found\")\n",
    "else:\n",
    "    for update in updates:\n",
    "        if update.message:\n",
    "\n",
    "            #Show chat id, title and message\n",
    "            chat_id = update.message.chat.id\n",
    "            chat_title = update.message.chat.title\n",
    "            message_text = update.message.text\n",
    "            print(f\"Chat ID: {chat_id}  | Chat Title: {chat_title} | Message: {message_text}\")\n"
   ]
  },
  {
   "cell_type": "markdown",
   "metadata": {},
   "source": [
    "### Sending test message\n",
    "\n",
    "When we run the cell above, we get the Chat ID of our group. The negative group identifier in Telegram is normal, don't worry.\n",
    "\n",
    "We can send a message to the group using `bot.send_message`. After running the cell below, you should receive a message from the bot in the Chat Group you've created."
   ]
  },
  {
   "cell_type": "code",
   "execution_count": 13,
   "metadata": {},
   "outputs": [
    {
     "data": {
      "text/plain": [
       "Message(channel_chat_created=False, chat=Chat(api_kwargs={'all_members_are_administrators': True}, id=-4545482209, title='ÖBB Ticket Updates', type=<ChatType.GROUP>), date=datetime.datetime(2024, 10, 12, 18, 26, 34, tzinfo=datetime.timezone.utc), delete_chat_photo=False, from_user=User(first_name='ÖBB-TicketBot', id=7433926112, is_bot=True, username='oebb_ticket_update_bot'), group_chat_created=False, message_id=4, supergroup_chat_created=False, text='Hello world!')"
      ]
     },
     "execution_count": 13,
     "metadata": {},
     "output_type": "execute_result"
    }
   ],
   "source": [
    "chat_id = -4545482209\n",
    "message = \"Hello world!\"\n",
    "\n",
    "await bot.send_message(text=message, chat_id=chat_id)"
   ]
  },
  {
   "cell_type": "markdown",
   "metadata": {},
   "source": [
    "## Scraping Nightjet booking page data\n",
    "\n",
    "Booking tickets for Nightjet train is possible on [https://www.nightjet.com/en/ticket-buchen](https://www.nightjet.com/en/ticket-buchen#/home). We are interested in the maximal available date in the calendar widget on this page.\n",
    "\n",
    "Basically we have to options:\n",
    "- *high-level and hard approach:* automate a real browser using `selenium` or, in other words, make the browser repeat all the user actions needed to open the calendar, navigate to correct month and inspect the DOM to find latest bookable date\n",
    "\n",
    "- *low-level and easy if possible approach:* investigate what is happening under the hood - explore the \"Network\"  being made by the webpage. Hopefully we can find how is the data for the maximal enabled date in calendar fetched by the website and then repeat that request ourselves.\n",
    "\n",
    "### Network investigation\n",
    "\n",
    "In Chrome you can open developer tools with *Ctrl+Shift+I*. After checking the Network traffic upon page load, I found a JSON object fetched from `https://www.nightjet.com/nj-booking-ocp/init/start`.\n",
    "\n",
    "Object contains a lot of data, including some local translation dictionaries, but all the way at the end you can find an interesting property - `maxBookableDate`.\n",
    "\n",
    "### Putting it all together\n",
    "\n",
    "With the bot setup and a source of data identified, we just need to put everything together.\n",
    "\n",
    "The request for `start` JSON is a POST request, and needs to have `{\"lang\": \"en\"}` in the body. \n",
    "The date comes in the `YYYY-mm-dd` format. We just need to parse it into Python `datetime` to be able to compare it with our desired date.\n",
    "\n",
    "After that, we just have to decide what messages do we sent to our Telegram based on the result.\n",
    "\n"
   ]
  },
  {
   "cell_type": "code",
   "execution_count": 16,
   "metadata": {},
   "outputs": [
    {
     "data": {
      "text/plain": [
       "Message(channel_chat_created=False, chat=Chat(api_kwargs={'all_members_are_administrators': True}, id=-4545482209, title='ÖBB Ticket Updates', type=<ChatType.GROUP>), date=datetime.datetime(2024, 10, 12, 19, 21, 38, tzinfo=datetime.timezone.utc), delete_chat_photo=False, from_user=User(first_name='ÖBB-TicketBot', id=7433926112, is_bot=True, username='oebb_ticket_update_bot'), group_chat_created=False, message_id=5, supergroup_chat_created=False, text='⏳ No luck with booking for 2024-12-20 yet.')"
      ]
     },
     "execution_count": 16,
     "metadata": {},
     "output_type": "execute_result"
    }
   ],
   "source": [
    "import requests\n",
    "from datetime import datetime\n",
    "\n",
    "#Desired booking date\n",
    "booking_date = datetime(2024, 12, 20)\n",
    "\n",
    "#Fetch data used to populate the Nightjet booking webapp\n",
    "page_data = requests.post(\"https://www.nightjet.com/nj-booking-ocp/init/start\", json={\"lang\": \"en\"})\n",
    "if page_data.ok:\n",
    "    #Parse maximal possible booking date from the data\n",
    "    max_bookable_date = datetime.strptime(page_data.json()[\"maxBookableDate\"], \"%Y-%m-%d\")\n",
    "\n",
    "    if max_bookable_date >= booking_date:\n",
    "        message = f\"🔥🚨 Tickets are available for {booking_date.date()}! 🚨🔥\"\n",
    "    else:\n",
    "        message = f\"⏳ No luck with booking for {booking_date.date()} yet.\"\"\"\n",
    "else:\n",
    "    message = \"😢 Couldn't get required data from Nightjet booking website.\"\n",
    "\n",
    "\n",
    "await bot.send_message(text=message, chat_id=chat_id)\n"
   ]
  }
 ],
 "metadata": {
  "kernelspec": {
   "display_name": "oebb-bot",
   "language": "python",
   "name": "python3"
  },
  "language_info": {
   "codemirror_mode": {
    "name": "ipython",
    "version": 3
   },
   "file_extension": ".py",
   "mimetype": "text/x-python",
   "name": "python",
   "nbconvert_exporter": "python",
   "pygments_lexer": "ipython3",
   "version": "3.10.15"
  }
 },
 "nbformat": 4,
 "nbformat_minor": 2
}
